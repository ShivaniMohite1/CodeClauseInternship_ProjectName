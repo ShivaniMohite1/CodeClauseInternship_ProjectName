{
  "cells": [
    {
      "cell_type": "markdown",
      "metadata": {
        "id": "view-in-github",
        "colab_type": "text"
      },
      "source": [
        "<a href=\"https://colab.research.google.com/github/ShivaniMohite1/CodeClauseInternship_ProjectName/blob/main/CodeClause_Ds_Internship_Task_4.ipynb\" target=\"_parent\"><img src=\"https://colab.research.google.com/assets/colab-badge.svg\" alt=\"Open In Colab\"/></a>"
      ]
    },
    {
      "cell_type": "markdown",
      "metadata": {
        "id": "puLjEDgzQDK3"
      },
      "source": [
        "**CodeClause Data Science Internship**\n",
        "\n",
        "**Golden Projects :-**\n",
        "\n",
        "**Project 4 :- Prediction of the Next Word**"
      ]
    },
    {
      "cell_type": "code",
      "execution_count": null,
      "metadata": {
        "colab": {
          "base_uri": "https://localhost:8080/"
        },
        "id": "a-5u5ZnXP-nw",
        "outputId": "f9b8bf74-e5bd-4973-d0a7-c9dbb7ef1377"
      },
      "outputs": [
        {
          "name": "stdout",
          "output_type": "stream",
          "text": [
            "/content/1661-0.txt\n",
            "/content/.config/active_config\n",
            "/content/.config/config_sentinel\n",
            "/content/.config/.last_opt_in_prompt.yaml\n",
            "/content/.config/default_configs.db\n",
            "/content/.config/.last_survey_prompt.yaml\n",
            "/content/.config/.last_update_check.json\n",
            "/content/.config/gce\n",
            "/content/.config/configurations/config_default\n",
            "/content/.config/logs/2023.12.04/14.20.49.627769.log\n",
            "/content/.config/logs/2023.12.04/14.23.49.652015.log\n",
            "/content/.config/logs/2023.12.04/14.23.59.638040.log\n",
            "/content/.config/logs/2023.12.04/14.26.59.279282.log\n",
            "/content/.config/logs/2023.12.04/14.27.00.107426.log\n",
            "/content/.config/logs/2023.12.04/14.26.48.840108.log\n",
            "/content/sample_data/anscombe.json\n",
            "/content/sample_data/README.md\n",
            "/content/sample_data/california_housing_train.csv\n",
            "/content/sample_data/mnist_test.csv\n",
            "/content/sample_data/california_housing_test.csv\n",
            "/content/sample_data/mnist_train_small.csv\n"
          ]
        }
      ],
      "source": [
        "import numpy as np # linear algebra\n",
        "import pandas as pd # data processing, CSV file I/O (e.g. pd.read_csv)\n",
        "\n",
        "import os\n",
        "for dirname, _, filenames in os.walk('/content'):\n",
        "    for filename in filenames:\n",
        "        print(os.path.join(dirname, filename))"
      ]
    },
    {
      "cell_type": "code",
      "execution_count": null,
      "metadata": {
        "id": "5cmq7dkPP_MZ"
      },
      "outputs": [],
      "source": [
        "import numpy as np\n",
        "import os\n",
        "import warnings\n",
        "warnings.filterwarnings('ignore')"
      ]
    },
    {
      "cell_type": "code",
      "execution_count": null,
      "metadata": {
        "id": "XZKfWjW5P_Pl"
      },
      "outputs": [],
      "source": [
        "text_df = open(\"/content/1661-0.txt\")"
      ]
    },
    {
      "cell_type": "code",
      "execution_count": null,
      "metadata": {
        "colab": {
          "base_uri": "https://localhost:8080/"
        },
        "id": "w6Rl96mzP_SQ",
        "outputId": "0b81d1ee-d61c-4e84-b182-42d6dc5a02f3"
      },
      "outputs": [
        {
          "data": {
            "text/plain": [
              "<_io.TextIOWrapper name='/content/1661-0.txt' mode='r' encoding='UTF-8'>"
            ]
          },
          "execution_count": 6,
          "metadata": {},
          "output_type": "execute_result"
        }
      ],
      "source": [
        "text_df"
      ]
    },
    {
      "cell_type": "code",
      "execution_count": null,
      "metadata": {
        "id": "85Z56fA7P_Vd"
      },
      "outputs": [],
      "source": [
        "lst1 = []\n",
        "for i in text_df:\n",
        "    lst1.append(i)"
      ]
    },
    {
      "cell_type": "code",
      "execution_count": null,
      "metadata": {
        "id": "rdRRnEEBP_Yc"
      },
      "outputs": [],
      "source": [
        "data = \"\"\n",
        "for i in lst1:\n",
        "    data = ' '.join(lst1)"
      ]
    },
    {
      "cell_type": "code",
      "execution_count": null,
      "metadata": {
        "id": "PBtdbOkYP_be"
      },
      "outputs": [],
      "source": [
        "data = data.replace('\\n','')\n",
        "data = data.replace('\\r','')\n",
        "data = data.replace('\\ufeff','')\n",
        "data = data.replace('“','')\n",
        "data = data.replace('”','')"
      ]
    },
    {
      "cell_type": "code",
      "execution_count": null,
      "metadata": {
        "colab": {
          "base_uri": "https://localhost:8080/",
          "height": 88
        },
        "id": "XhKVfxVzP_ek",
        "outputId": "7f0cec6d-6c5a-4a90-8cb4-740a6ffef0b6"
      },
      "outputs": [
        {
          "data": {
            "application/vnd.google.colaboratory.intrinsic+json": {
              "type": "string"
            },
            "text/plain": [
              "\"Project Gutenberg's The Adventures of Sherlock Holmes, by Arthur Conan Doyle This eBook is for the use of anyone anywhere at no cost and with almost no restrictions whatsoever. You may copy it, give it away or re-use it under the terms of the Project Gutenberg License included with this eBook or online at www.gutenberg.net Title: The Adventures of Sherlock Holmes Author: Arthur Conan Doyle Release Date: November 29, 2002 [EBook #1661] Last Updated: May 20, 2019 Language: English Character set en\""
            ]
          },
          "execution_count": 10,
          "metadata": {},
          "output_type": "execute_result"
        }
      ],
      "source": [
        "data = data.split()\n",
        "data = ' '.join(data)\n",
        "data[:500]"
      ]
    },
    {
      "cell_type": "code",
      "execution_count": null,
      "metadata": {
        "colab": {
          "base_uri": "https://localhost:8080/"
        },
        "id": "rmeOrZcjP_hW",
        "outputId": "74e1ab5a-579d-4810-c4aa-d7cb1df8f509"
      },
      "outputs": [
        {
          "data": {
            "text/plain": [
              "573660"
            ]
          },
          "execution_count": 11,
          "metadata": {},
          "output_type": "execute_result"
        }
      ],
      "source": [
        "len(data)"
      ]
    },
    {
      "cell_type": "code",
      "execution_count": null,
      "metadata": {
        "id": "TJM1JGReP_j_"
      },
      "outputs": [],
      "source": [
        "from tensorflow.keras.preprocessing.text import Tokenizer"
      ]
    },
    {
      "cell_type": "code",
      "execution_count": null,
      "metadata": {
        "id": "iFgJTShzP_nM"
      },
      "outputs": [],
      "source": [
        "tokenizer = Tokenizer()\n",
        "tokenizer.fit_on_texts([data])"
      ]
    },
    {
      "cell_type": "code",
      "execution_count": null,
      "metadata": {
        "colab": {
          "base_uri": "https://localhost:8080/"
        },
        "id": "hrLwdWM-P_qZ",
        "outputId": "6ee08f90-a1cb-4c4c-f03b-42f5629234e6"
      },
      "outputs": [
        {
          "data": {
            "text/plain": [
              "[142, 4680, 1, 986, 5, 125, 33, 46, 556, 2164, 2165, 27, 987, 14, 22]"
            ]
          },
          "execution_count": 14,
          "metadata": {},
          "output_type": "execute_result"
        }
      ],
      "source": [
        "sequence_data = tokenizer.texts_to_sequences([data])[0]\n",
        "sequence_data[:15]"
      ]
    },
    {
      "cell_type": "code",
      "execution_count": null,
      "metadata": {
        "colab": {
          "base_uri": "https://localhost:8080/"
        },
        "id": "pwynR1VqP_tl",
        "outputId": "da9eba3a-fa31-4584-8426-6a3b413b297c"
      },
      "outputs": [
        {
          "data": {
            "text/plain": [
              "108958"
            ]
          },
          "execution_count": 15,
          "metadata": {},
          "output_type": "execute_result"
        }
      ],
      "source": [
        "len(sequence_data)"
      ]
    },
    {
      "cell_type": "code",
      "execution_count": null,
      "metadata": {
        "colab": {
          "base_uri": "https://localhost:8080/"
        },
        "id": "d5ufTOyOP_wz",
        "outputId": "34dcd467-3bc6-4fe6-a9ec-eb8335e10c64"
      },
      "outputs": [
        {
          "name": "stdout",
          "output_type": "stream",
          "text": [
            "8624\n"
          ]
        }
      ],
      "source": [
        "sizeofvocab = len(tokenizer.word_index)+1\n",
        "print(sizeofvocab)"
      ]
    },
    {
      "cell_type": "code",
      "execution_count": null,
      "metadata": {
        "colab": {
          "base_uri": "https://localhost:8080/"
        },
        "id": "yEToFrIvP_z0",
        "outputId": "ac89c12a-6a85-4f03-8cf5-446fb5f26f1f"
      },
      "outputs": [
        {
          "name": "stdout",
          "output_type": "stream",
          "text": [
            "Length of sequences:  108955\n"
          ]
        },
        {
          "data": {
            "text/plain": [
              "array([[ 142, 4680,    1,  986],\n",
              "       [4680,    1,  986,    5],\n",
              "       [   1,  986,    5,  125],\n",
              "       [ 986,    5,  125,   33],\n",
              "       [   5,  125,   33,   46],\n",
              "       [ 125,   33,   46,  556],\n",
              "       [  33,   46,  556, 2164],\n",
              "       [  46,  556, 2164, 2165],\n",
              "       [ 556, 2164, 2165,   27],\n",
              "       [2164, 2165,   27,  987]])"
            ]
          },
          "execution_count": 17,
          "metadata": {},
          "output_type": "execute_result"
        }
      ],
      "source": [
        "\n",
        "sequences = []\n",
        "\n",
        "for i in range(3,len(sequence_data)):\n",
        "    words = sequence_data[i-3:i+1]\n",
        "    sequences.append(words)\n",
        "\n",
        "print(\"Length of sequences: \",len(sequences))\n",
        "sequences = np.array(sequences)\n",
        "sequences[:10]"
      ]
    },
    {
      "cell_type": "code",
      "execution_count": null,
      "metadata": {
        "id": "ZJUzP9MYP_27"
      },
      "outputs": [],
      "source": [
        "X = []\n",
        "y = []\n",
        "\n",
        "for i in sequences:\n",
        "    X.append(i[0:3])\n",
        "    y.append(i[3])\n",
        "\n",
        "X = np.array(X)\n",
        "y = np.array(y)"
      ]
    },
    {
      "cell_type": "code",
      "execution_count": null,
      "metadata": {
        "colab": {
          "base_uri": "https://localhost:8080/"
        },
        "id": "Rkws5pJ2P_6G",
        "outputId": "b3a47fff-0e7f-4f6c-8b84-d461eb5707aa"
      },
      "outputs": [
        {
          "name": "stdout",
          "output_type": "stream",
          "text": [
            "X: [[ 142 4680    1]\n",
            " [4680    1  986]\n",
            " [   1  986    5]\n",
            " [ 986    5  125]\n",
            " [   5  125   33]\n",
            " [ 125   33   46]\n",
            " [  33   46  556]\n",
            " [  46  556 2164]\n",
            " [ 556 2164 2165]\n",
            " [2164 2165   27]]\n",
            "y: [ 986    5  125   33   46  556 2164 2165   27  987]\n"
          ]
        }
      ],
      "source": [
        "print(\"X:\",X[:10])\n",
        "print(\"y:\",y[:10])"
      ]
    },
    {
      "cell_type": "code",
      "execution_count": null,
      "metadata": {
        "id": "ocynmpzdP_88"
      },
      "outputs": [],
      "source": [
        "from tensorflow.keras.utils import to_categorical"
      ]
    },
    {
      "cell_type": "code",
      "execution_count": null,
      "metadata": {
        "colab": {
          "base_uri": "https://localhost:8080/"
        },
        "id": "IEvgJhc3P__-",
        "outputId": "a5cb321b-1be8-4ac1-908e-d00a778107db"
      },
      "outputs": [
        {
          "data": {
            "text/plain": [
              "array([[0., 0., 0., ..., 0., 0., 0.],\n",
              "       [0., 0., 0., ..., 0., 0., 0.],\n",
              "       [0., 0., 0., ..., 0., 0., 0.],\n",
              "       [0., 0., 0., ..., 0., 0., 0.],\n",
              "       [0., 0., 0., ..., 0., 0., 0.]], dtype=float32)"
            ]
          },
          "execution_count": 21,
          "metadata": {},
          "output_type": "execute_result"
        }
      ],
      "source": [
        "y = to_categorical(y,num_classes=sizeofvocab)\n",
        "y[:5]"
      ]
    },
    {
      "cell_type": "code",
      "execution_count": null,
      "metadata": {
        "id": "b1YYTEFLQADM"
      },
      "outputs": [],
      "source": [
        "from tensorflow.keras.layers import Embedding, LSTM, Dense\n",
        "from tensorflow.keras.models import Sequential"
      ]
    },
    {
      "cell_type": "code",
      "execution_count": null,
      "metadata": {
        "id": "ipi5WvUXQAGR"
      },
      "outputs": [],
      "source": [
        "model = Sequential()\n",
        "model.add(Embedding(sizeofvocab, 10, input_length = 3))\n",
        "model.add(LSTM(1000, return_sequences=True))\n",
        "model.add(LSTM(1000))\n",
        "model.add(Dense(1000,activation='relu'))\n",
        "model.add(Dense(sizeofvocab, activation=\"softmax\"))"
      ]
    },
    {
      "cell_type": "code",
      "execution_count": null,
      "metadata": {
        "colab": {
          "base_uri": "https://localhost:8080/"
        },
        "id": "_Xkm_q34QAJd",
        "outputId": "5be57979-da25-4b52-9000-a1ee5e3d3ecc"
      },
      "outputs": [
        {
          "name": "stdout",
          "output_type": "stream",
          "text": [
            "Model: \"sequential\"\n",
            "_________________________________________________________________\n",
            " Layer (type)                Output Shape              Param #   \n",
            "=================================================================\n",
            " embedding (Embedding)       (None, 3, 10)             86240     \n",
            "                                                                 \n",
            " lstm (LSTM)                 (None, 3, 1000)           4044000   \n",
            "                                                                 \n",
            " lstm_1 (LSTM)               (None, 1000)              8004000   \n",
            "                                                                 \n",
            " dense (Dense)               (None, 1000)              1001000   \n",
            "                                                                 \n",
            " dense_1 (Dense)             (None, 8624)              8632624   \n",
            "                                                                 \n",
            "=================================================================\n",
            "Total params: 21767864 (83.04 MB)\n",
            "Trainable params: 21767864 (83.04 MB)\n",
            "Non-trainable params: 0 (0.00 Byte)\n",
            "_________________________________________________________________\n"
          ]
        }
      ],
      "source": [
        "model.summary()"
      ]
    },
    {
      "cell_type": "code",
      "execution_count": null,
      "metadata": {
        "id": "ENALJ1Y4QAMz"
      },
      "outputs": [],
      "source": [
        "from tensorflow.keras.optimizers import Adam\n",
        "model.compile(optimizer=Adam(learning_rate= 0.001), loss=\"categorical_crossentropy\")"
      ]
    },
    {
      "cell_type": "code",
      "execution_count": null,
      "metadata": {
        "id": "qBlJWh7LQAP5"
      },
      "outputs": [],
      "source": [
        "model.fit(X,y,epochs=70,batch_size=64)"
      ]
    },
    {
      "cell_type": "code",
      "execution_count": null,
      "metadata": {
        "id": "7AbbuCe-QAS8"
      },
      "outputs": [],
      "source": [
        " model.save('next_word_prediction.h5')"
      ]
    },
    {
      "cell_type": "code",
      "execution_count": null,
      "metadata": {
        "id": "Y8qf7SobQAWQ"
      },
      "outputs": [],
      "source": [
        "from tensorflow.keras.models import load_model"
      ]
    },
    {
      "cell_type": "code",
      "execution_count": null,
      "metadata": {
        "id": "gmU_BvotQAcD"
      },
      "outputs": [],
      "source": [
        "def Predict_next_words(model,tokenizer,text):\n",
        "\n",
        "    sequence = tokenizer.texts_to_sequences([text])\n",
        "    sequence = np.array(sequence)\n",
        "    preds = np.argmax(model.predict(sequence))\n",
        "\n",
        "    token = tokenizer.word_index\n",
        "    k1 = [key for key,value in token.items() if value==preds]\n",
        "    print(k1)\n",
        "    return k1"
      ]
    },
    {
      "cell_type": "code",
      "execution_count": null,
      "metadata": {
        "colab": {
          "background_save": true,
          "base_uri": "https://localhost:8080/"
        },
        "id": "uAGTceVUQAfd",
        "outputId": "bbbe3740-e91c-4578-dda0-38d0d590e5fd"
      },
      "outputs": [
        {
          "name": "stdout",
          "output_type": "stream",
          "text": [
            "Enter line  1\n"
          ]
        }
      ],
      "source": [
        "for i in range(5):\n",
        "    print(\"Enter line \",i+1)\n",
        "    text = input()\n",
        "\n",
        "    if text == \"0\":\n",
        "        print(\"Execution completed\")\n",
        "        break\n",
        "    else:\n",
        "        text = text.split(\" \")\n",
        "        text = text[-3:]\n",
        "        print(text)\n",
        "\n",
        "        Predict_next_words(model,tokenizer,text)\n",
        "        print('\\n')"
      ]
    },
    {
      "cell_type": "code",
      "execution_count": null,
      "metadata": {
        "id": "fXvHilPyimyU"
      },
      "outputs": [],
      "source": []
    }
  ],
  "metadata": {
    "colab": {
      "provenance": [],
      "authorship_tag": "ABX9TyM/WUVf6nh3WwUi6GgNNaJn",
      "include_colab_link": true
    },
    "kernelspec": {
      "display_name": "Python 3",
      "name": "python3"
    },
    "language_info": {
      "name": "python"
    }
  },
  "nbformat": 4,
  "nbformat_minor": 0
}